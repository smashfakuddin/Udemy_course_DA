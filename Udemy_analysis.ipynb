{
 "cells": [
  {
   "cell_type": "code",
   "execution_count": 1,
   "metadata": {},
   "outputs": [],
   "source": [
    "import pandas as pd\n",
    "import matplotlib.pyplot as plt\n",
    "import seaborn as sns"
   ]
  },
  {
   "cell_type": "code",
   "execution_count": 3,
   "metadata": {},
   "outputs": [
    {
     "data": {
      "text/html": [
       "<div>\n",
       "<style scoped>\n",
       "    .dataframe tbody tr th:only-of-type {\n",
       "        vertical-align: middle;\n",
       "    }\n",
       "\n",
       "    .dataframe tbody tr th {\n",
       "        vertical-align: top;\n",
       "    }\n",
       "\n",
       "    .dataframe thead th {\n",
       "        text-align: right;\n",
       "    }\n",
       "</style>\n",
       "<table border=\"1\" class=\"dataframe\">\n",
       "  <thead>\n",
       "    <tr style=\"text-align: right;\">\n",
       "      <th></th>\n",
       "      <th>course_id</th>\n",
       "      <th>course_title</th>\n",
       "      <th>is_paid</th>\n",
       "      <th>price</th>\n",
       "      <th>num_subscribers</th>\n",
       "      <th>num_reviews</th>\n",
       "      <th>num_lectures</th>\n",
       "      <th>level</th>\n",
       "      <th>content_duration</th>\n",
       "      <th>published_timestamp</th>\n",
       "      <th>subject</th>\n",
       "    </tr>\n",
       "  </thead>\n",
       "  <tbody>\n",
       "    <tr>\n",
       "      <th>0</th>\n",
       "      <td>288942</td>\n",
       "      <td>#1 Piano Hand Coordination: Play 10th Ballad i...</td>\n",
       "      <td>True</td>\n",
       "      <td>35</td>\n",
       "      <td>3137</td>\n",
       "      <td>18</td>\n",
       "      <td>68</td>\n",
       "      <td>All Levels</td>\n",
       "      <td>1.5 hours</td>\n",
       "      <td>2014-09-18T05:07:05Z</td>\n",
       "      <td>Musical Instruments</td>\n",
       "    </tr>\n",
       "    <tr>\n",
       "      <th>1</th>\n",
       "      <td>1170074</td>\n",
       "      <td>#10 Hand Coordination - Transfer Chord Ballad ...</td>\n",
       "      <td>True</td>\n",
       "      <td>75</td>\n",
       "      <td>1593</td>\n",
       "      <td>1</td>\n",
       "      <td>41</td>\n",
       "      <td>Intermediate Level</td>\n",
       "      <td>1 hour</td>\n",
       "      <td>2017-04-12T19:06:34Z</td>\n",
       "      <td>Musical Instruments</td>\n",
       "    </tr>\n",
       "    <tr>\n",
       "      <th>2</th>\n",
       "      <td>1193886</td>\n",
       "      <td>#12 Hand Coordination: Let your Hands dance wi...</td>\n",
       "      <td>True</td>\n",
       "      <td>75</td>\n",
       "      <td>482</td>\n",
       "      <td>1</td>\n",
       "      <td>47</td>\n",
       "      <td>Intermediate Level</td>\n",
       "      <td>1.5 hours</td>\n",
       "      <td>2017-04-26T18:34:57Z</td>\n",
       "      <td>Musical Instruments</td>\n",
       "    </tr>\n",
       "  </tbody>\n",
       "</table>\n",
       "</div>"
      ],
      "text/plain": [
       "   course_id                                       course_title  is_paid  \\\n",
       "0     288942  #1 Piano Hand Coordination: Play 10th Ballad i...     True   \n",
       "1    1170074  #10 Hand Coordination - Transfer Chord Ballad ...     True   \n",
       "2    1193886  #12 Hand Coordination: Let your Hands dance wi...     True   \n",
       "\n",
       "  price  num_subscribers  num_reviews  num_lectures               level  \\\n",
       "0    35             3137           18            68          All Levels   \n",
       "1    75             1593            1            41  Intermediate Level   \n",
       "2    75              482            1            47  Intermediate Level   \n",
       "\n",
       "  content_duration   published_timestamp              subject  \n",
       "0        1.5 hours  2014-09-18T05:07:05Z  Musical Instruments  \n",
       "1           1 hour  2017-04-12T19:06:34Z  Musical Instruments  \n",
       "2        1.5 hours  2017-04-26T18:34:57Z  Musical Instruments  "
      ]
     },
     "execution_count": 3,
     "metadata": {},
     "output_type": "execute_result"
    }
   ],
   "source": [
    "df = pd.read_csv('Udemy_Courses.csv')\n",
    "df.head(3)"
   ]
  },
  {
   "cell_type": "code",
   "execution_count": 4,
   "metadata": {},
   "outputs": [
    {
     "data": {
      "text/plain": [
       "Index(['course_id', 'course_title', 'is_paid', 'price', 'num_subscribers',\n",
       "       'num_reviews', 'num_lectures', 'level', 'content_duration',\n",
       "       'published_timestamp', 'subject'],\n",
       "      dtype='object')"
      ]
     },
     "execution_count": 4,
     "metadata": {},
     "output_type": "execute_result"
    }
   ],
   "source": [
    "df.columns"
   ]
  }
 ],
 "metadata": {
  "kernelspec": {
   "display_name": "Python 3.8.6 64-bit",
   "language": "python",
   "name": "python3"
  },
  "language_info": {
   "codemirror_mode": {
    "name": "ipython",
    "version": 3
   },
   "file_extension": ".py",
   "mimetype": "text/x-python",
   "name": "python",
   "nbconvert_exporter": "python",
   "pygments_lexer": "ipython3",
   "version": "3.8.6"
  },
  "orig_nbformat": 4,
  "vscode": {
   "interpreter": {
    "hash": "9650cb4e16cdd4a8e8e2d128bf38d875813998db22a3c986335f89e0cb4d7bb2"
   }
  }
 },
 "nbformat": 4,
 "nbformat_minor": 2
}

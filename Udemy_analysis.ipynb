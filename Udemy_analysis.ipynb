{
 "cells": [
  {
   "cell_type": "code",
   "execution_count": 2,
   "metadata": {},
   "outputs": [],
   "source": [
    "import pandas as pd\n",
    "import matplotlib.pyplot as plt\n",
    "import seaborn as sns"
   ]
  },
  {
   "cell_type": "code",
   "execution_count": 5,
   "metadata": {},
   "outputs": [],
   "source": [
    "df = pd.read_csv('Udemy_Courses.csv')\n"
   ]
  },
  {
   "cell_type": "markdown",
   "metadata": {},
   "source": [
    "Display Top 10 Rows of The Dataset"
   ]
  },
  {
   "cell_type": "code",
   "execution_count": 6,
   "metadata": {},
   "outputs": [
    {
     "data": {
      "text/html": [
       "<div>\n",
       "<style scoped>\n",
       "    .dataframe tbody tr th:only-of-type {\n",
       "        vertical-align: middle;\n",
       "    }\n",
       "\n",
       "    .dataframe tbody tr th {\n",
       "        vertical-align: top;\n",
       "    }\n",
       "\n",
       "    .dataframe thead th {\n",
       "        text-align: right;\n",
       "    }\n",
       "</style>\n",
       "<table border=\"1\" class=\"dataframe\">\n",
       "  <thead>\n",
       "    <tr style=\"text-align: right;\">\n",
       "      <th></th>\n",
       "      <th>course_id</th>\n",
       "      <th>course_title</th>\n",
       "      <th>is_paid</th>\n",
       "      <th>price</th>\n",
       "      <th>num_subscribers</th>\n",
       "      <th>num_reviews</th>\n",
       "      <th>num_lectures</th>\n",
       "      <th>level</th>\n",
       "      <th>content_duration</th>\n",
       "      <th>published_timestamp</th>\n",
       "      <th>subject</th>\n",
       "    </tr>\n",
       "  </thead>\n",
       "  <tbody>\n",
       "    <tr>\n",
       "      <th>0</th>\n",
       "      <td>288942</td>\n",
       "      <td>#1 Piano Hand Coordination: Play 10th Ballad i...</td>\n",
       "      <td>True</td>\n",
       "      <td>35</td>\n",
       "      <td>3137</td>\n",
       "      <td>18</td>\n",
       "      <td>68</td>\n",
       "      <td>All Levels</td>\n",
       "      <td>1.5 hours</td>\n",
       "      <td>2014-09-18T05:07:05Z</td>\n",
       "      <td>Musical Instruments</td>\n",
       "    </tr>\n",
       "    <tr>\n",
       "      <th>1</th>\n",
       "      <td>1170074</td>\n",
       "      <td>#10 Hand Coordination - Transfer Chord Ballad ...</td>\n",
       "      <td>True</td>\n",
       "      <td>75</td>\n",
       "      <td>1593</td>\n",
       "      <td>1</td>\n",
       "      <td>41</td>\n",
       "      <td>Intermediate Level</td>\n",
       "      <td>1 hour</td>\n",
       "      <td>2017-04-12T19:06:34Z</td>\n",
       "      <td>Musical Instruments</td>\n",
       "    </tr>\n",
       "    <tr>\n",
       "      <th>2</th>\n",
       "      <td>1193886</td>\n",
       "      <td>#12 Hand Coordination: Let your Hands dance wi...</td>\n",
       "      <td>True</td>\n",
       "      <td>75</td>\n",
       "      <td>482</td>\n",
       "      <td>1</td>\n",
       "      <td>47</td>\n",
       "      <td>Intermediate Level</td>\n",
       "      <td>1.5 hours</td>\n",
       "      <td>2017-04-26T18:34:57Z</td>\n",
       "      <td>Musical Instruments</td>\n",
       "    </tr>\n",
       "    <tr>\n",
       "      <th>3</th>\n",
       "      <td>1116700</td>\n",
       "      <td>#4 Piano Hand Coordination: Fun Piano Runs in ...</td>\n",
       "      <td>True</td>\n",
       "      <td>75</td>\n",
       "      <td>850</td>\n",
       "      <td>3</td>\n",
       "      <td>43</td>\n",
       "      <td>Intermediate Level</td>\n",
       "      <td>1 hour</td>\n",
       "      <td>2017-02-21T23:48:18Z</td>\n",
       "      <td>Musical Instruments</td>\n",
       "    </tr>\n",
       "    <tr>\n",
       "      <th>4</th>\n",
       "      <td>1120410</td>\n",
       "      <td>#5  Piano Hand Coordination:  Piano Runs in 2 ...</td>\n",
       "      <td>True</td>\n",
       "      <td>75</td>\n",
       "      <td>940</td>\n",
       "      <td>3</td>\n",
       "      <td>32</td>\n",
       "      <td>Intermediate Level</td>\n",
       "      <td>37 mins</td>\n",
       "      <td>2017-02-21T23:44:49Z</td>\n",
       "      <td>Musical Instruments</td>\n",
       "    </tr>\n",
       "    <tr>\n",
       "      <th>5</th>\n",
       "      <td>1122832</td>\n",
       "      <td>#6 Piano Hand Coordination: Play Open 10 Balla...</td>\n",
       "      <td>True</td>\n",
       "      <td>65</td>\n",
       "      <td>2015</td>\n",
       "      <td>3</td>\n",
       "      <td>21</td>\n",
       "      <td>Intermediate Level</td>\n",
       "      <td>44 mins</td>\n",
       "      <td>2017-03-08T17:53:36Z</td>\n",
       "      <td>Musical Instruments</td>\n",
       "    </tr>\n",
       "    <tr>\n",
       "      <th>6</th>\n",
       "      <td>1123184</td>\n",
       "      <td>#7 Piano Hand Coordination: Play Piano Runs in...</td>\n",
       "      <td>True</td>\n",
       "      <td>65</td>\n",
       "      <td>2015</td>\n",
       "      <td>2</td>\n",
       "      <td>25</td>\n",
       "      <td>Intermediate Level</td>\n",
       "      <td>1 hour</td>\n",
       "      <td>2017-03-08T18:09:32Z</td>\n",
       "      <td>Musical Instruments</td>\n",
       "    </tr>\n",
       "    <tr>\n",
       "      <th>7</th>\n",
       "      <td>768028</td>\n",
       "      <td>* An Integrated Approach to the Fundamentals o...</td>\n",
       "      <td>True</td>\n",
       "      <td>200</td>\n",
       "      <td>134</td>\n",
       "      <td>14</td>\n",
       "      <td>123</td>\n",
       "      <td>All Levels</td>\n",
       "      <td>5.5 hours</td>\n",
       "      <td>2016-03-15T17:23:07Z</td>\n",
       "      <td>Business Finance</td>\n",
       "    </tr>\n",
       "    <tr>\n",
       "      <th>8</th>\n",
       "      <td>206592</td>\n",
       "      <td>:::Beginners Guide To Creating Amazing Images ...</td>\n",
       "      <td>True</td>\n",
       "      <td>25</td>\n",
       "      <td>72</td>\n",
       "      <td>5</td>\n",
       "      <td>17</td>\n",
       "      <td>Beginner Level</td>\n",
       "      <td>1 hour</td>\n",
       "      <td>2014-04-29T19:50:31Z</td>\n",
       "      <td>Graphic Design</td>\n",
       "    </tr>\n",
       "    <tr>\n",
       "      <th>9</th>\n",
       "      <td>738910</td>\n",
       "      <td>[Value Investing] Where White People Keep Thei...</td>\n",
       "      <td>True</td>\n",
       "      <td>200</td>\n",
       "      <td>2715</td>\n",
       "      <td>70</td>\n",
       "      <td>20</td>\n",
       "      <td>Expert Level</td>\n",
       "      <td>4 hours</td>\n",
       "      <td>2016-05-25T21:04:41Z</td>\n",
       "      <td>Business Finance</td>\n",
       "    </tr>\n",
       "  </tbody>\n",
       "</table>\n",
       "</div>"
      ],
      "text/plain": [
       "   course_id                                       course_title  is_paid  \\\n",
       "0     288942  #1 Piano Hand Coordination: Play 10th Ballad i...     True   \n",
       "1    1170074  #10 Hand Coordination - Transfer Chord Ballad ...     True   \n",
       "2    1193886  #12 Hand Coordination: Let your Hands dance wi...     True   \n",
       "3    1116700  #4 Piano Hand Coordination: Fun Piano Runs in ...     True   \n",
       "4    1120410  #5  Piano Hand Coordination:  Piano Runs in 2 ...     True   \n",
       "5    1122832  #6 Piano Hand Coordination: Play Open 10 Balla...     True   \n",
       "6    1123184  #7 Piano Hand Coordination: Play Piano Runs in...     True   \n",
       "7     768028  * An Integrated Approach to the Fundamentals o...     True   \n",
       "8     206592  :::Beginners Guide To Creating Amazing Images ...     True   \n",
       "9     738910  [Value Investing] Where White People Keep Thei...     True   \n",
       "\n",
       "  price  num_subscribers  num_reviews  num_lectures               level  \\\n",
       "0    35             3137           18            68          All Levels   \n",
       "1    75             1593            1            41  Intermediate Level   \n",
       "2    75              482            1            47  Intermediate Level   \n",
       "3    75              850            3            43  Intermediate Level   \n",
       "4    75              940            3            32  Intermediate Level   \n",
       "5    65             2015            3            21  Intermediate Level   \n",
       "6    65             2015            2            25  Intermediate Level   \n",
       "7   200              134           14           123          All Levels   \n",
       "8    25               72            5            17      Beginner Level   \n",
       "9   200             2715           70            20        Expert Level   \n",
       "\n",
       "  content_duration   published_timestamp              subject  \n",
       "0        1.5 hours  2014-09-18T05:07:05Z  Musical Instruments  \n",
       "1           1 hour  2017-04-12T19:06:34Z  Musical Instruments  \n",
       "2        1.5 hours  2017-04-26T18:34:57Z  Musical Instruments  \n",
       "3           1 hour  2017-02-21T23:48:18Z  Musical Instruments  \n",
       "4          37 mins  2017-02-21T23:44:49Z  Musical Instruments  \n",
       "5          44 mins  2017-03-08T17:53:36Z  Musical Instruments  \n",
       "6           1 hour  2017-03-08T18:09:32Z  Musical Instruments  \n",
       "7        5.5 hours  2016-03-15T17:23:07Z     Business Finance  \n",
       "8           1 hour  2014-04-29T19:50:31Z       Graphic Design  \n",
       "9          4 hours  2016-05-25T21:04:41Z     Business Finance  "
      ]
     },
     "execution_count": 6,
     "metadata": {},
     "output_type": "execute_result"
    }
   ],
   "source": [
    "df.head(10)"
   ]
  },
  {
   "cell_type": "markdown",
   "metadata": {},
   "source": [
    "Check Last 5 Rows of The Dataset"
   ]
  },
  {
   "cell_type": "code",
   "execution_count": 7,
   "metadata": {},
   "outputs": [
    {
     "data": {
      "text/html": [
       "<div>\n",
       "<style scoped>\n",
       "    .dataframe tbody tr th:only-of-type {\n",
       "        vertical-align: middle;\n",
       "    }\n",
       "\n",
       "    .dataframe tbody tr th {\n",
       "        vertical-align: top;\n",
       "    }\n",
       "\n",
       "    .dataframe thead th {\n",
       "        text-align: right;\n",
       "    }\n",
       "</style>\n",
       "<table border=\"1\" class=\"dataframe\">\n",
       "  <thead>\n",
       "    <tr style=\"text-align: right;\">\n",
       "      <th></th>\n",
       "      <th>course_id</th>\n",
       "      <th>course_title</th>\n",
       "      <th>is_paid</th>\n",
       "      <th>price</th>\n",
       "      <th>num_subscribers</th>\n",
       "      <th>num_reviews</th>\n",
       "      <th>num_lectures</th>\n",
       "      <th>level</th>\n",
       "      <th>content_duration</th>\n",
       "      <th>published_timestamp</th>\n",
       "      <th>subject</th>\n",
       "    </tr>\n",
       "  </thead>\n",
       "  <tbody>\n",
       "    <tr>\n",
       "      <th>3677</th>\n",
       "      <td>328960</td>\n",
       "      <td>Your Own Site in 45 Min: The Complete Wordpres...</td>\n",
       "      <td>True</td>\n",
       "      <td>120</td>\n",
       "      <td>1566</td>\n",
       "      <td>29</td>\n",
       "      <td>36</td>\n",
       "      <td>All Levels</td>\n",
       "      <td>4 hours</td>\n",
       "      <td>2015-04-20T22:15:17Z</td>\n",
       "      <td>Web Development</td>\n",
       "    </tr>\n",
       "    <tr>\n",
       "      <th>3678</th>\n",
       "      <td>552700</td>\n",
       "      <td>Your Second Course on Piano: Two Handed Playing</td>\n",
       "      <td>True</td>\n",
       "      <td>70</td>\n",
       "      <td>1018</td>\n",
       "      <td>12</td>\n",
       "      <td>22</td>\n",
       "      <td>Beginner Level</td>\n",
       "      <td>5 hours</td>\n",
       "      <td>2015-10-26T20:04:21Z</td>\n",
       "      <td>Musical Instruments</td>\n",
       "    </tr>\n",
       "    <tr>\n",
       "      <th>3679</th>\n",
       "      <td>631754</td>\n",
       "      <td>Zend Framework 2: Learn the PHP framework ZF2 ...</td>\n",
       "      <td>True</td>\n",
       "      <td>40</td>\n",
       "      <td>723</td>\n",
       "      <td>130</td>\n",
       "      <td>37</td>\n",
       "      <td>All Levels</td>\n",
       "      <td>6.5 hours</td>\n",
       "      <td>2015-11-11T18:55:45Z</td>\n",
       "      <td>Web Development</td>\n",
       "    </tr>\n",
       "    <tr>\n",
       "      <th>3680</th>\n",
       "      <td>1225194</td>\n",
       "      <td>Zoho Books Gestion Financière d'Entreprise pas...</td>\n",
       "      <td>False</td>\n",
       "      <td>Free</td>\n",
       "      <td>229</td>\n",
       "      <td>0</td>\n",
       "      <td>33</td>\n",
       "      <td>All Levels</td>\n",
       "      <td>2 hours</td>\n",
       "      <td>2017-05-26T16:45:55Z</td>\n",
       "      <td>Business Finance</td>\n",
       "    </tr>\n",
       "    <tr>\n",
       "      <th>3681</th>\n",
       "      <td>964478</td>\n",
       "      <td>Zombie Apocalypse Photoshop Actions</td>\n",
       "      <td>True</td>\n",
       "      <td>50</td>\n",
       "      <td>12</td>\n",
       "      <td>1</td>\n",
       "      <td>15</td>\n",
       "      <td>All Levels</td>\n",
       "      <td>1.5 hours</td>\n",
       "      <td>2016-09-26T22:19:48Z</td>\n",
       "      <td>Graphic Design</td>\n",
       "    </tr>\n",
       "  </tbody>\n",
       "</table>\n",
       "</div>"
      ],
      "text/plain": [
       "      course_id                                       course_title  is_paid  \\\n",
       "3677     328960  Your Own Site in 45 Min: The Complete Wordpres...     True   \n",
       "3678     552700    Your Second Course on Piano: Two Handed Playing     True   \n",
       "3679     631754  Zend Framework 2: Learn the PHP framework ZF2 ...     True   \n",
       "3680    1225194  Zoho Books Gestion Financière d'Entreprise pas...    False   \n",
       "3681     964478                Zombie Apocalypse Photoshop Actions     True   \n",
       "\n",
       "     price  num_subscribers  num_reviews  num_lectures           level  \\\n",
       "3677   120             1566           29            36      All Levels   \n",
       "3678    70             1018           12            22  Beginner Level   \n",
       "3679    40              723          130            37      All Levels   \n",
       "3680  Free              229            0            33      All Levels   \n",
       "3681    50               12            1            15      All Levels   \n",
       "\n",
       "     content_duration   published_timestamp              subject  \n",
       "3677          4 hours  2015-04-20T22:15:17Z      Web Development  \n",
       "3678          5 hours  2015-10-26T20:04:21Z  Musical Instruments  \n",
       "3679        6.5 hours  2015-11-11T18:55:45Z      Web Development  \n",
       "3680          2 hours  2017-05-26T16:45:55Z     Business Finance  \n",
       "3681        1.5 hours  2016-09-26T22:19:48Z       Graphic Design  "
      ]
     },
     "execution_count": 7,
     "metadata": {},
     "output_type": "execute_result"
    }
   ],
   "source": [
    "df.tail(5)"
   ]
  },
  {
   "cell_type": "markdown",
   "metadata": {},
   "source": [
    " Find Shape of Our Dataset (Number of Rows And Number of Columns)"
   ]
  },
  {
   "cell_type": "code",
   "execution_count": 13,
   "metadata": {},
   "outputs": [
    {
     "data": {
      "text/plain": [
       "(3682, 11)"
      ]
     },
     "execution_count": 13,
     "metadata": {},
     "output_type": "execute_result"
    }
   ],
   "source": [
    "df.shape"
   ]
  },
  {
   "cell_type": "code",
   "execution_count": 16,
   "metadata": {},
   "outputs": [
    {
     "name": "stdout",
     "output_type": "stream",
     "text": [
      "Number of rows 3682\n",
      "Number of columns 11\n"
     ]
    }
   ],
   "source": [
    "print('Number of rows', df.shape[0])\n",
    "print(\"Number of columns\", df.shape[1])"
   ]
  },
  {
   "cell_type": "markdown",
   "metadata": {},
   "source": [
    "Getting Information About Our Dataset Like Total Number Rows, Total Number of Columns, Datatypes of Each Column And Memory Requirement"
   ]
  },
  {
   "cell_type": "code",
   "execution_count": 18,
   "metadata": {},
   "outputs": [
    {
     "name": "stdout",
     "output_type": "stream",
     "text": [
      "<class 'pandas.core.frame.DataFrame'>\n",
      "RangeIndex: 3682 entries, 0 to 3681\n",
      "Data columns (total 11 columns):\n",
      " #   Column               Non-Null Count  Dtype \n",
      "---  ------               --------------  ----- \n",
      " 0   course_id            3682 non-null   int64 \n",
      " 1   course_title         3682 non-null   object\n",
      " 2   is_paid              3682 non-null   bool  \n",
      " 3   price                3682 non-null   object\n",
      " 4   num_subscribers      3682 non-null   int64 \n",
      " 5   num_reviews          3682 non-null   int64 \n",
      " 6   num_lectures         3682 non-null   int64 \n",
      " 7   level                3682 non-null   object\n",
      " 8   content_duration     3682 non-null   object\n",
      " 9   published_timestamp  3682 non-null   object\n",
      " 10  subject              3682 non-null   object\n",
      "dtypes: bool(1), int64(4), object(6)\n",
      "memory usage: 291.4+ KB\n"
     ]
    }
   ],
   "source": [
    "df.info()"
   ]
  },
  {
   "cell_type": "markdown",
   "metadata": {},
   "source": [
    "Check Null Values In The Datase"
   ]
  },
  {
   "cell_type": "code",
   "execution_count": 20,
   "metadata": {},
   "outputs": [
    {
     "data": {
      "text/plain": [
       "course_id              0\n",
       "course_title           0\n",
       "is_paid                0\n",
       "price                  0\n",
       "num_subscribers        0\n",
       "num_reviews            0\n",
       "num_lectures           0\n",
       "level                  0\n",
       "content_duration       0\n",
       "published_timestamp    0\n",
       "subject                0\n",
       "dtype: int64"
      ]
     },
     "execution_count": 20,
     "metadata": {},
     "output_type": "execute_result"
    }
   ],
   "source": [
    "df.isnull().sum()"
   ]
  },
  {
   "cell_type": "markdown",
   "metadata": {},
   "source": [
    " Check For Duplicate Data and Drop Them"
   ]
  },
  {
   "cell_type": "code",
   "execution_count": 26,
   "metadata": {},
   "outputs": [
    {
     "data": {
      "text/plain": [
       "6"
      ]
     },
     "execution_count": 26,
     "metadata": {},
     "output_type": "execute_result"
    }
   ],
   "source": [
    "df.duplicated().sum()\n"
   ]
  },
  {
   "cell_type": "code",
   "execution_count": 27,
   "metadata": {},
   "outputs": [],
   "source": [
    "df = df.drop_duplicates()"
   ]
  },
  {
   "cell_type": "code",
   "execution_count": 29,
   "metadata": {},
   "outputs": [
    {
     "data": {
      "text/plain": [
       "0"
      ]
     },
     "execution_count": 29,
     "metadata": {},
     "output_type": "execute_result"
    }
   ],
   "source": [
    "df.duplicated().sum()"
   ]
  },
  {
   "cell_type": "markdown",
   "metadata": {},
   "source": [
    "Find Out Number of Courses Per Subjects"
   ]
  },
  {
   "cell_type": "code",
   "execution_count": 31,
   "metadata": {},
   "outputs": [
    {
     "data": {
      "text/html": [
       "<div>\n",
       "<style scoped>\n",
       "    .dataframe tbody tr th:only-of-type {\n",
       "        vertical-align: middle;\n",
       "    }\n",
       "\n",
       "    .dataframe tbody tr th {\n",
       "        vertical-align: top;\n",
       "    }\n",
       "\n",
       "    .dataframe thead th {\n",
       "        text-align: right;\n",
       "    }\n",
       "</style>\n",
       "<table border=\"1\" class=\"dataframe\">\n",
       "  <thead>\n",
       "    <tr style=\"text-align: right;\">\n",
       "      <th></th>\n",
       "      <th>course_id</th>\n",
       "      <th>course_title</th>\n",
       "      <th>is_paid</th>\n",
       "      <th>price</th>\n",
       "      <th>num_subscribers</th>\n",
       "      <th>num_reviews</th>\n",
       "      <th>num_lectures</th>\n",
       "      <th>level</th>\n",
       "      <th>content_duration</th>\n",
       "      <th>published_timestamp</th>\n",
       "      <th>subject</th>\n",
       "    </tr>\n",
       "  </thead>\n",
       "  <tbody>\n",
       "    <tr>\n",
       "      <th>0</th>\n",
       "      <td>288942</td>\n",
       "      <td>#1 Piano Hand Coordination: Play 10th Ballad i...</td>\n",
       "      <td>True</td>\n",
       "      <td>35</td>\n",
       "      <td>3137</td>\n",
       "      <td>18</td>\n",
       "      <td>68</td>\n",
       "      <td>All Levels</td>\n",
       "      <td>1.5 hours</td>\n",
       "      <td>2014-09-18T05:07:05Z</td>\n",
       "      <td>Musical Instruments</td>\n",
       "    </tr>\n",
       "    <tr>\n",
       "      <th>1</th>\n",
       "      <td>1170074</td>\n",
       "      <td>#10 Hand Coordination - Transfer Chord Ballad ...</td>\n",
       "      <td>True</td>\n",
       "      <td>75</td>\n",
       "      <td>1593</td>\n",
       "      <td>1</td>\n",
       "      <td>41</td>\n",
       "      <td>Intermediate Level</td>\n",
       "      <td>1 hour</td>\n",
       "      <td>2017-04-12T19:06:34Z</td>\n",
       "      <td>Musical Instruments</td>\n",
       "    </tr>\n",
       "  </tbody>\n",
       "</table>\n",
       "</div>"
      ],
      "text/plain": [
       "   course_id                                       course_title  is_paid  \\\n",
       "0     288942  #1 Piano Hand Coordination: Play 10th Ballad i...     True   \n",
       "1    1170074  #10 Hand Coordination - Transfer Chord Ballad ...     True   \n",
       "\n",
       "  price  num_subscribers  num_reviews  num_lectures               level  \\\n",
       "0    35             3137           18            68          All Levels   \n",
       "1    75             1593            1            41  Intermediate Level   \n",
       "\n",
       "  content_duration   published_timestamp              subject  \n",
       "0        1.5 hours  2014-09-18T05:07:05Z  Musical Instruments  \n",
       "1           1 hour  2017-04-12T19:06:34Z  Musical Instruments  "
      ]
     },
     "execution_count": 31,
     "metadata": {},
     "output_type": "execute_result"
    }
   ],
   "source": [
    "df.head(2)"
   ]
  },
  {
   "cell_type": "code",
   "execution_count": 34,
   "metadata": {},
   "outputs": [
    {
     "data": {
      "text/plain": [
       "Web Development        1199\n",
       "Business Finance       1195\n",
       "Musical Instruments     680\n",
       "Graphic Design          602\n",
       "Name: subject, dtype: int64"
      ]
     },
     "execution_count": 34,
     "metadata": {},
     "output_type": "execute_result"
    }
   ],
   "source": [
    "df['subject'].value_counts()"
   ]
  },
  {
   "cell_type": "code",
   "execution_count": 45,
   "metadata": {},
   "outputs": [
    {
     "data": {
      "image/png": "[encoded data removed]",
      "text/plain": [
       "<Figure size 640x480 with 1 Axes>"
      ]
     },
     "metadata": {},
     "output_type": "display_data"
    }
   ],
   "source": [
    "sns.countplot(x = df['subject'], width=.5)\n",
    "plt.xlabel('Subjects Name')\n",
    "plt.ylabel('Number Of Courses Per Subject')\n",
    "plt.xticks(rotation =30)\n",
    "plt.show()\n"
   ]
  },
  {
   "cell_type": "markdown",
   "metadata": {},
   "source": [
    "For Which Levels, Udemy Courses Providing The Courses"
   ]
  },
  {
   "cell_type": "code",
   "execution_count": 48,
   "metadata": {},
   "outputs": [
    {
     "data": {
      "text/html": [
       "<div>\n",
       "<style scoped>\n",
       "    .dataframe tbody tr th:only-of-type {\n",
       "        vertical-align: middle;\n",
       "    }\n",
       "\n",
       "    .dataframe tbody tr th {\n",
       "        vertical-align: top;\n",
       "    }\n",
       "\n",
       "    .dataframe thead th {\n",
       "        text-align: right;\n",
       "    }\n",
       "</style>\n",
       "<table border=\"1\" class=\"dataframe\">\n",
       "  <thead>\n",
       "    <tr style=\"text-align: right;\">\n",
       "      <th></th>\n",
       "      <th>course_id</th>\n",
       "      <th>course_title</th>\n",
       "      <th>is_paid</th>\n",
       "      <th>price</th>\n",
       "      <th>num_subscribers</th>\n",
       "      <th>num_reviews</th>\n",
       "      <th>num_lectures</th>\n",
       "      <th>level</th>\n",
       "      <th>content_duration</th>\n",
       "      <th>published_timestamp</th>\n",
       "      <th>subject</th>\n",
       "    </tr>\n",
       "  </thead>\n",
       "  <tbody>\n",
       "    <tr>\n",
       "      <th>0</th>\n",
       "      <td>288942</td>\n",
       "      <td>#1 Piano Hand Coordination: Play 10th Ballad i...</td>\n",
       "      <td>True</td>\n",
       "      <td>35</td>\n",
       "      <td>3137</td>\n",
       "      <td>18</td>\n",
       "      <td>68</td>\n",
       "      <td>All Levels</td>\n",
       "      <td>1.5 hours</td>\n",
       "      <td>2014-09-18T05:07:05Z</td>\n",
       "      <td>Musical Instruments</td>\n",
       "    </tr>\n",
       "  </tbody>\n",
       "</table>\n",
       "</div>"
      ],
      "text/plain": [
       "   course_id                                       course_title  is_paid  \\\n",
       "0     288942  #1 Piano Hand Coordination: Play 10th Ballad i...     True   \n",
       "\n",
       "  price  num_subscribers  num_reviews  num_lectures       level  \\\n",
       "0    35             3137           18            68  All Levels   \n",
       "\n",
       "  content_duration   published_timestamp              subject  \n",
       "0        1.5 hours  2014-09-18T05:07:05Z  Musical Instruments  "
      ]
     },
     "execution_count": 48,
     "metadata": {},
     "output_type": "execute_result"
    }
   ],
   "source": [
    "df.head(1)"
   ]
  },
  {
   "cell_type": "code",
   "execution_count": 51,
   "metadata": {},
   "outputs": [
    {
     "data": {
      "text/plain": [
       "All Levels            1928\n",
       "Beginner Level        1269\n",
       "Intermediate Level     421\n",
       "Expert Level            58\n",
       "Name: level, dtype: int64"
      ]
     },
     "execution_count": 51,
     "metadata": {},
     "output_type": "execute_result"
    }
   ],
   "source": [
    "df[\"level\"].value_counts()"
   ]
  },
  {
   "cell_type": "code",
   "execution_count": 66,
   "metadata": {},
   "outputs": [
    {
     "data": {
      "image/png": "[encoded data removed]",
      "text/plain": [
       "<Figure size 640x480 with 1 Axes>"
      ]
     },
     "metadata": {},
     "output_type": "display_data"
    }
   ],
   "source": [
    "sns.countplot(x = df[\"level\"], width=.6)\n",
    "plt.xlabel('Level Name', fontsize = 13)\n",
    "plt.ylabel('Number of Courses per level', fontsize = 13)\n",
    "plt.show()"
   ]
  },
  {
   "cell_type": "markdown",
   "metadata": {},
   "source": [
    "Display The Count of Paid and Free Courses "
   ]
  },
  {
   "cell_type": "code",
   "execution_count": 62,
   "metadata": {},
   "outputs": [
    {
     "data": {
      "text/plain": [
       "Index(['course_id', 'course_title', 'is_paid', 'price', 'num_subscribers',\n",
       "       'num_reviews', 'num_lectures', 'level', 'content_duration',\n",
       "       'published_timestamp', 'subject'],\n",
       "      dtype='object')"
      ]
     },
     "execution_count": 62,
     "metadata": {},
     "output_type": "execute_result"
    }
   ],
   "source": [
    "df.columns"
   ]
  },
  {
   "cell_type": "code",
   "execution_count": 60,
   "metadata": {},
   "outputs": [
    {
     "data": {
      "text/plain": [
       "True     3366\n",
       "False     310\n",
       "Name: is_paid, dtype: int64"
      ]
     },
     "execution_count": 60,
     "metadata": {},
     "output_type": "execute_result"
    }
   ],
   "source": [
    "df[\"is_paid\"].value_counts()"
   ]
  },
  {
   "cell_type": "code",
   "execution_count": 69,
   "metadata": {},
   "outputs": [
    {
     "data": {
      "image/png": "[encoded data removed]",
      "text/plain": [
       "<Figure size 640x480 with 1 Axes>"
      ]
     },
     "metadata": {},
     "output_type": "display_data"
    }
   ],
   "source": [
    "sns.countplot(x = df[\"is_paid\"], width=.5)\n",
    "plt.xlabel('Level Name', fontsize = 13)\n",
    "plt.ylabel('Number of Free and Paid Courses', fontsize = 13)\n",
    "plt.show()"
   ]
  },
  {
   "cell_type": "markdown",
   "metadata": {},
   "source": [
    "Which Course Has More Lectures (Free or Paid)?"
   ]
  },
  {
   "cell_type": "code",
   "execution_count": 71,
   "metadata": {},
   "outputs": [
    {
     "data": {
      "text/html": [
       "<div>\n",
       "<style scoped>\n",
       "    .dataframe tbody tr th:only-of-type {\n",
       "        vertical-align: middle;\n",
       "    }\n",
       "\n",
       "    .dataframe tbody tr th {\n",
       "        vertical-align: top;\n",
       "    }\n",
       "\n",
       "    .dataframe thead th {\n",
       "        text-align: right;\n",
       "    }\n",
       "</style>\n",
       "<table border=\"1\" class=\"dataframe\">\n",
       "  <thead>\n",
       "    <tr style=\"text-align: right;\">\n",
       "      <th></th>\n",
       "      <th>course_id</th>\n",
       "      <th>num_subscribers</th>\n",
       "      <th>num_reviews</th>\n",
       "      <th>num_lectures</th>\n",
       "    </tr>\n",
       "    <tr>\n",
       "      <th>is_paid</th>\n",
       "      <th></th>\n",
       "      <th></th>\n",
       "      <th></th>\n",
       "      <th></th>\n",
       "    </tr>\n",
       "  </thead>\n",
       "  <tbody>\n",
       "    <tr>\n",
       "      <th>False</th>\n",
       "      <td>691446.970968</td>\n",
       "      <td>11533.951613</td>\n",
       "      <td>425.929032</td>\n",
       "      <td>21.416129</td>\n",
       "    </tr>\n",
       "    <tr>\n",
       "      <th>True</th>\n",
       "      <td>675165.977718</td>\n",
       "      <td>2418.997623</td>\n",
       "      <td>131.364231</td>\n",
       "      <td>41.816993</td>\n",
       "    </tr>\n",
       "  </tbody>\n",
       "</table>\n",
       "</div>"
      ],
      "text/plain": [
       "             course_id  num_subscribers  num_reviews  num_lectures\n",
       "is_paid                                                           \n",
       "False    691446.970968     11533.951613   425.929032     21.416129\n",
       "True     675165.977718      2418.997623   131.364231     41.816993"
      ]
     },
     "execution_count": 71,
     "metadata": {},
     "output_type": "execute_result"
    }
   ],
   "source": [
    "df.groupby(['is_paid']).mean()"
   ]
  },
  {
   "cell_type": "markdown",
   "metadata": {},
   "source": [
    "Which Courses Have A Higher Number of Subscribers Free or Paid?"
   ]
  },
  {
   "cell_type": "code",
   "execution_count": 76,
   "metadata": {},
   "outputs": [
    {
     "data": {
      "text/plain": [
       "Text(0, 0.5, 'Number of subscriber')"
      ]
     },
     "execution_count": 76,
     "metadata": {},
     "output_type": "execute_result"
    },
    {
     "data": {
      "image/png": "[encoded data removed]",
      "text/plain": [
       "<Figure size 640x480 with 1 Axes>"
      ]
     },
     "metadata": {},
     "output_type": "display_data"
    }
   ],
   "source": [
    "sns.barplot(x=df['is_paid'], y=df['num_subscribers'])\n",
    "plt.ylabel('Number of subscriber', fontsize =13)"
   ]
  },
  {
   "cell_type": "markdown",
   "metadata": {},
   "source": [
    " Which Level Has The Highest Number of Subscribers?"
   ]
  },
  {
   "cell_type": "code",
   "execution_count": 77,
   "metadata": {},
   "outputs": [
    {
     "data": {
      "text/plain": [
       "Index(['course_id', 'course_title', 'is_paid', 'price', 'num_subscribers',\n",
       "       'num_reviews', 'num_lectures', 'level', 'content_duration',\n",
       "       'published_timestamp', 'subject'],\n",
       "      dtype='object')"
      ]
     },
     "execution_count": 77,
     "metadata": {},
     "output_type": "execute_result"
    }
   ],
   "source": [
    "df.columns"
   ]
  },
  {
   "cell_type": "code",
   "execution_count": 86,
   "metadata": {},
   "outputs": [
    {
     "data": {
      "text/plain": [
       "<AxesSubplot: xlabel='level', ylabel='num_subscribers'>"
      ]
     },
     "execution_count": 86,
     "metadata": {},
     "output_type": "execute_result"
    },
    {
     "data": {
      "image/png": "[encoded data removed]",
      "text/plain": [
       "<Figure size 640x480 with 1 Axes>"
      ]
     },
     "metadata": {},
     "output_type": "display_data"
    }
   ],
   "source": [
    "sns.barplot(x = 'level', y ='num_subscribers', data=df)"
   ]
  },
  {
   "cell_type": "markdown",
   "metadata": {},
   "source": [
    "Find Most Popular Course Title"
   ]
  },
  {
   "cell_type": "code",
   "execution_count": 87,
   "metadata": {},
   "outputs": [
    {
     "data": {
      "text/plain": [
       "Index(['course_id', 'course_title', 'is_paid', 'price', 'num_subscribers',\n",
       "       'num_reviews', 'num_lectures', 'level', 'content_duration',\n",
       "       'published_timestamp', 'subject'],\n",
       "      dtype='object')"
      ]
     },
     "execution_count": 87,
     "metadata": {},
     "output_type": "execute_result"
    }
   ],
   "source": [
    "df.columns"
   ]
  },
  {
   "cell_type": "code",
   "execution_count": 91,
   "metadata": {},
   "outputs": [
    {
     "data": {
      "text/plain": [
       "2230    Learn HTML5 Programming From Scratch\n",
       "Name: course_title, dtype: object"
      ]
     },
     "execution_count": 91,
     "metadata": {},
     "output_type": "execute_result"
    }
   ],
   "source": [
    "df[df['num_subscribers'].max() == df['num_subscribers']]['course_title']"
   ]
  },
  {
   "cell_type": "markdown",
   "metadata": {},
   "source": [
    "Display 10 Most Popular Courses As Per Number of Subscribers"
   ]
  },
  {
   "cell_type": "code",
   "execution_count": 96,
   "metadata": {},
   "outputs": [
    {
     "data": {
      "text/html": [
       "<div>\n",
       "<style scoped>\n",
       "    .dataframe tbody tr th:only-of-type {\n",
       "        vertical-align: middle;\n",
       "    }\n",
       "\n",
       "    .dataframe tbody tr th {\n",
       "        vertical-align: top;\n",
       "    }\n",
       "\n",
       "    .dataframe thead th {\n",
       "        text-align: right;\n",
       "    }\n",
       "</style>\n",
       "<table border=\"1\" class=\"dataframe\">\n",
       "  <thead>\n",
       "    <tr style=\"text-align: right;\">\n",
       "      <th></th>\n",
       "      <th>course_id</th>\n",
       "      <th>course_title</th>\n",
       "      <th>is_paid</th>\n",
       "      <th>price</th>\n",
       "      <th>num_subscribers</th>\n",
       "      <th>num_reviews</th>\n",
       "      <th>num_lectures</th>\n",
       "      <th>level</th>\n",
       "      <th>content_duration</th>\n",
       "      <th>published_timestamp</th>\n",
       "      <th>subject</th>\n",
       "    </tr>\n",
       "  </thead>\n",
       "  <tbody>\n",
       "    <tr>\n",
       "      <th>2230</th>\n",
       "      <td>41295</td>\n",
       "      <td>Learn HTML5 Programming From Scratch</td>\n",
       "      <td>False</td>\n",
       "      <td>Free</td>\n",
       "      <td>268923</td>\n",
       "      <td>8629</td>\n",
       "      <td>45</td>\n",
       "      <td>All Levels</td>\n",
       "      <td>10.5 hours</td>\n",
       "      <td>2013-02-14T07:03:41Z</td>\n",
       "      <td>Web Development</td>\n",
       "    </tr>\n",
       "    <tr>\n",
       "      <th>776</th>\n",
       "      <td>59014</td>\n",
       "      <td>Coding for Entrepreneurs Basic</td>\n",
       "      <td>False</td>\n",
       "      <td>Free</td>\n",
       "      <td>161029</td>\n",
       "      <td>279</td>\n",
       "      <td>27</td>\n",
       "      <td>Beginner Level</td>\n",
       "      <td>3.5 hours</td>\n",
       "      <td>2013-06-09T15:51:55Z</td>\n",
       "      <td>Web Development</td>\n",
       "    </tr>\n",
       "    <tr>\n",
       "      <th>3385</th>\n",
       "      <td>625204</td>\n",
       "      <td>The Web Developer Bootcamp</td>\n",
       "      <td>True</td>\n",
       "      <td>200</td>\n",
       "      <td>121584</td>\n",
       "      <td>27445</td>\n",
       "      <td>342</td>\n",
       "      <td>All Levels</td>\n",
       "      <td>43 hours</td>\n",
       "      <td>2015-11-02T21:13:27Z</td>\n",
       "      <td>Web Development</td>\n",
       "    </tr>\n",
       "    <tr>\n",
       "      <th>640</th>\n",
       "      <td>173548</td>\n",
       "      <td>Build Your First Website in 1 Week with HTML5 ...</td>\n",
       "      <td>False</td>\n",
       "      <td>Free</td>\n",
       "      <td>120291</td>\n",
       "      <td>5924</td>\n",
       "      <td>30</td>\n",
       "      <td>Beginner Level</td>\n",
       "      <td>3 hours</td>\n",
       "      <td>2014-04-08T16:21:30Z</td>\n",
       "      <td>Web Development</td>\n",
       "    </tr>\n",
       "    <tr>\n",
       "      <th>3316</th>\n",
       "      <td>764164</td>\n",
       "      <td>The Complete Web Developer Course 2.0</td>\n",
       "      <td>True</td>\n",
       "      <td>200</td>\n",
       "      <td>114512</td>\n",
       "      <td>22412</td>\n",
       "      <td>304</td>\n",
       "      <td>All Levels</td>\n",
       "      <td>30.5 hours</td>\n",
       "      <td>2016-03-08T22:28:36Z</td>\n",
       "      <td>Web Development</td>\n",
       "    </tr>\n",
       "    <tr>\n",
       "      <th>1388</th>\n",
       "      <td>19421</td>\n",
       "      <td>Free Beginner Electric Guitar Lessons</td>\n",
       "      <td>False</td>\n",
       "      <td>Free</td>\n",
       "      <td>101154</td>\n",
       "      <td>1042</td>\n",
       "      <td>95</td>\n",
       "      <td>Beginner Level</td>\n",
       "      <td>4.5 hours</td>\n",
       "      <td>2012-06-15T17:00:33Z</td>\n",
       "      <td>Musical Instruments</td>\n",
       "    </tr>\n",
       "    <tr>\n",
       "      <th>3556</th>\n",
       "      <td>473160</td>\n",
       "      <td>Web Design for Web Developers: Build Beautiful...</td>\n",
       "      <td>False</td>\n",
       "      <td>Free</td>\n",
       "      <td>98867</td>\n",
       "      <td>6512</td>\n",
       "      <td>20</td>\n",
       "      <td>All Levels</td>\n",
       "      <td>3 hours</td>\n",
       "      <td>2015-04-13T18:29:47Z</td>\n",
       "      <td>Web Development</td>\n",
       "    </tr>\n",
       "    <tr>\n",
       "      <th>2233</th>\n",
       "      <td>94430</td>\n",
       "      <td>Learn Javascript &amp; JQuery From Scratch</td>\n",
       "      <td>True</td>\n",
       "      <td>30</td>\n",
       "      <td>84897</td>\n",
       "      <td>2685</td>\n",
       "      <td>10</td>\n",
       "      <td>All Levels</td>\n",
       "      <td>2 hours</td>\n",
       "      <td>2013-10-10T15:19:29Z</td>\n",
       "      <td>Web Development</td>\n",
       "    </tr>\n",
       "    <tr>\n",
       "      <th>2886</th>\n",
       "      <td>130064</td>\n",
       "      <td>Practical PHP: Master the Basics and Code Dyna...</td>\n",
       "      <td>False</td>\n",
       "      <td>Free</td>\n",
       "      <td>83737</td>\n",
       "      <td>4598</td>\n",
       "      <td>45</td>\n",
       "      <td>All Levels</td>\n",
       "      <td>6.5 hours</td>\n",
       "      <td>2014-07-19T03:02:05Z</td>\n",
       "      <td>Web Development</td>\n",
       "    </tr>\n",
       "    <tr>\n",
       "      <th>2034</th>\n",
       "      <td>364426</td>\n",
       "      <td>JavaScript: Understanding the Weird Parts</td>\n",
       "      <td>True</td>\n",
       "      <td>175</td>\n",
       "      <td>79612</td>\n",
       "      <td>16976</td>\n",
       "      <td>85</td>\n",
       "      <td>All Levels</td>\n",
       "      <td>11.5 hours</td>\n",
       "      <td>2015-03-12T23:19:54Z</td>\n",
       "      <td>Web Development</td>\n",
       "    </tr>\n",
       "  </tbody>\n",
       "</table>\n",
       "</div>"
      ],
      "text/plain": [
       "      course_id                                       course_title  is_paid  \\\n",
       "2230      41295               Learn HTML5 Programming From Scratch    False   \n",
       "776       59014                     Coding for Entrepreneurs Basic    False   \n",
       "3385     625204                         The Web Developer Bootcamp     True   \n",
       "640      173548  Build Your First Website in 1 Week with HTML5 ...    False   \n",
       "3316     764164              The Complete Web Developer Course 2.0     True   \n",
       "1388      19421              Free Beginner Electric Guitar Lessons    False   \n",
       "3556     473160  Web Design for Web Developers: Build Beautiful...    False   \n",
       "2233      94430             Learn Javascript & JQuery From Scratch     True   \n",
       "2886     130064  Practical PHP: Master the Basics and Code Dyna...    False   \n",
       "2034     364426          JavaScript: Understanding the Weird Parts     True   \n",
       "\n",
       "     price  num_subscribers  num_reviews  num_lectures           level  \\\n",
       "2230  Free           268923         8629            45      All Levels   \n",
       "776   Free           161029          279            27  Beginner Level   \n",
       "3385   200           121584        27445           342      All Levels   \n",
       "640   Free           120291         5924            30  Beginner Level   \n",
       "3316   200           114512        22412           304      All Levels   \n",
       "1388  Free           101154         1042            95  Beginner Level   \n",
       "3556  Free            98867         6512            20      All Levels   \n",
       "2233    30            84897         2685            10      All Levels   \n",
       "2886  Free            83737         4598            45      All Levels   \n",
       "2034   175            79612        16976            85      All Levels   \n",
       "\n",
       "     content_duration   published_timestamp              subject  \n",
       "2230       10.5 hours  2013-02-14T07:03:41Z      Web Development  \n",
       "776         3.5 hours  2013-06-09T15:51:55Z      Web Development  \n",
       "3385         43 hours  2015-11-02T21:13:27Z      Web Development  \n",
       "640           3 hours  2014-04-08T16:21:30Z      Web Development  \n",
       "3316       30.5 hours  2016-03-08T22:28:36Z      Web Development  \n",
       "1388        4.5 hours  2012-06-15T17:00:33Z  Musical Instruments  \n",
       "3556          3 hours  2015-04-13T18:29:47Z      Web Development  \n",
       "2233          2 hours  2013-10-10T15:19:29Z      Web Development  \n",
       "2886        6.5 hours  2014-07-19T03:02:05Z      Web Development  \n",
       "2034       11.5 hours  2015-03-12T23:19:54Z      Web Development  "
      ]
     },
     "execution_count": 96,
     "metadata": {},
     "output_type": "execute_result"
    }
   ],
   "source": [
    "top_10 = df.sort_values(by='num_subscribers', ascending=False).head(10)\n",
    "top_10"
   ]
  },
  {
   "cell_type": "code",
   "execution_count": 103,
   "metadata": {},
   "outputs": [
    {
     "data": {
      "text/plain": [
       "<AxesSubplot: xlabel='num_subscribers', ylabel='course_title'>"
      ]
     },
     "execution_count": 103,
     "metadata": {},
     "output_type": "execute_result"
    },
    {
     "data": {
      "image/png": "[encoded data removed]",
      "text/plain": [
       "<Figure size 640x480 with 1 Axes>"
      ]
     },
     "metadata": {},
     "output_type": "display_data"
    }
   ],
   "source": [
    "sns.barplot(x = 'num_subscribers', y = 'course_title', data = top_10)"
   ]
  },
  {
   "cell_type": "markdown",
   "metadata": {},
   "source": [
    " Find The Course Which Is Having The Highest Number of Reviews"
   ]
  },
  {
   "cell_type": "code",
   "execution_count": 104,
   "metadata": {},
   "outputs": [
    {
     "data": {
      "text/plain": [
       "Index(['course_id', 'course_title', 'is_paid', 'price', 'num_subscribers',\n",
       "       'num_reviews', 'num_lectures', 'level', 'content_duration',\n",
       "       'published_timestamp', 'subject'],\n",
       "      dtype='object')"
      ]
     },
     "execution_count": 104,
     "metadata": {},
     "output_type": "execute_result"
    }
   ],
   "source": [
    "df.columns"
   ]
  },
  {
   "cell_type": "code",
   "execution_count": 117,
   "metadata": {},
   "outputs": [
    {
     "data": {
      "image/png": "[encoded data removed]",
      "text/plain": [
       "<Figure size 640x480 with 1 Axes>"
      ]
     },
     "metadata": {},
     "output_type": "display_data"
    }
   ],
   "source": [
    "sns.barplot(x='subject', y='num_reviews', data=df)\n",
    "plt.xticks(rotation=15)\n",
    "plt.xlabel('Name of Subject',fontsize = 13)\n",
    "plt.ylabel(\"Number of Reviews\", fontsize = 13)\n",
    "plt.show()"
   ]
  },
  {
   "cell_type": "markdown",
   "metadata": {},
   "source": [
    "Does Price Affect the Number of Reviews?"
   ]
  },
  {
   "cell_type": "code",
   "execution_count": 119,
   "metadata": {},
   "outputs": [
    {
     "data": {
      "text/plain": [
       "Index(['course_id', 'course_title', 'is_paid', 'price', 'num_subscribers',\n",
       "       'num_reviews', 'num_lectures', 'level', 'content_duration',\n",
       "       'published_timestamp', 'subject'],\n",
       "      dtype='object')"
      ]
     },
     "execution_count": 119,
     "metadata": {},
     "output_type": "execute_result"
    }
   ],
   "source": [
    "df.columns"
   ]
  }
 ],
 "metadata": {
  "kernelspec": {
   "display_name": "Python 3.8.6 64-bit",
   "language": "python",
   "name": "python3"
  },
  "language_info": {
   "codemirror_mode": {
    "name": "ipython",
    "version": 3
   },
   "file_extension": ".py",
   "mimetype": "text/x-python",
   "name": "python",
   "nbconvert_exporter": "python",
   "pygments_lexer": "ipython3",
   "version": "3.8.6"
  },
  "orig_nbformat": 4,
  "vscode": {
   "interpreter": {
    "hash": "9650cb4e16cdd4a8e8e2d128bf38d875813998db22a3c986335f89e0cb4d7bb2"
   }
  }
 },
 "nbformat": 4,
 "nbformat_minor": 2
}
